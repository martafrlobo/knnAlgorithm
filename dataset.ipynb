{
 "metadata": {
  "language_info": {
   "codemirror_mode": {
    "name": "ipython",
    "version": 3
   },
   "file_extension": ".py",
   "mimetype": "text/x-python",
   "name": "python",
   "nbconvert_exporter": "python",
   "pygments_lexer": "ipython3",
   "version": "3.8.6-final"
  },
  "orig_nbformat": 2,
  "kernelspec": {
   "name": "python3",
   "display_name": "Python 3.8.6 64-bit",
   "metadata": {
    "interpreter": {
     "hash": "ac95350b66f6589373349051f841c976289178d06e3f0dec34fc9cf18927c9cd"
    }
   }
  }
 },
 "nbformat": 4,
 "nbformat_minor": 2,
 "cells": [
  {
   "cell_type": "code",
   "execution_count": 1,
   "metadata": {
    "tags": []
   },
   "outputs": [
    {
     "output_type": "stream",
     "name": "stdout",
     "text": [
      "['5.1,3.5,1.4,0.2,Iris-setosa']\n"
     ]
    }
   ],
   "source": [
    "\n",
    "import csv\n",
    "filename='C:/Users/Marta Lobo/Documents/ISAG/Porgramming/iris.csv'\n",
    "with open(filename) as f:\n",
    "    reader=csv.reader(f)\n",
    "    header_row=next(reader)\n",
    "    print(header_row)\n",
    "\n"
   ]
  },
  {
   "cell_type": "code",
   "execution_count": null,
   "metadata": {},
   "outputs": [],
   "source": []
  }
 ]
}