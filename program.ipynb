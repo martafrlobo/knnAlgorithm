{
 "metadata": {
  "language_info": {
   "codemirror_mode": {
    "name": "ipython",
    "version": 3
   },
   "file_extension": ".py",
   "mimetype": "text/x-python",
   "name": "python",
   "nbconvert_exporter": "python",
   "pygments_lexer": "ipython3",
   "version": "3.8.5-final"
  },
  "orig_nbformat": 2,
  "kernelspec": {
   "name": "python3",
   "display_name": "Python 3"
  }
 },
 "nbformat": 4,
 "nbformat_minor": 2,
 "cells": [
  {
   "cell_type": "code",
   "execution_count": 23,
   "metadata": {},
   "outputs": [],
   "source": [
    "import numpy as np\n",
    "\n",
    "class knn():\n",
    "\n",
    "def __init__(self,k-3):\n",
    "    self.k - k\n",
    "\"\"\"calculate euclidean distance\"\"\"\n",
    "\n",
    "def distance(self,x_train,x_test):\n",
    "    value1 = np.array(x_train)\n",
    "    value2 = np.array(x_test)  \n",
    "    return np.linalg.norm(value1-value2) \n",
    "\n",
    "    def train(self, x_train, y_train):\n",
    "        self.x_train = x\n",
    "        self.y_train = y\n",
    "\n",
    "    def test(self, x_test):\n"
   ]
  },
  {
   "cell_type": "code",
   "execution_count": 25,
   "metadata": {},
   "outputs": [],
   "source": [
    "import numpy as np\n",
    "import matplotlib.pyplot as plt\n",
    "import pandas as pd\n"
   ]
  },
  {
   "cell_type": "code",
   "execution_count": 26,
   "metadata": {},
   "outputs": [],
   "source": []
  },
  {
   "cell_type": "code",
   "execution_count": null,
   "metadata": {},
   "outputs": [],
   "source": []
  }
 ]
}